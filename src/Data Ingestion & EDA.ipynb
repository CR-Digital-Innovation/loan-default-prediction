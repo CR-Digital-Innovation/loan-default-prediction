{
  "cells": [
    {
      "cell_type": "markdown",
      "metadata": {
        "id": "Nusl873k_z3-"
      },
      "source": [
        "## Data Ingestion"
      ]
    },
    {
      "cell_type": "code",
      "execution_count": 5,
      "metadata": {
        "id": "lUh4OJo5_v5j"
      },
      "outputs": [],
      "source": [
        "import yaml, os\n",
        "import pandas as pd\n",
        "\n",
        "def read_config(file_path):\n",
        "    with open(file_path, 'r') as file:\n",
        "        config = yaml.safe_load(file)\n",
        "    return config\n",
        "\n",
        "\n",
        "config_file = os.path.join('..', 'config', 'config.yaml')\n",
        "config = read_config(config_file)\n",
        "\n",
        "# Load AWS credentials\n",
        "\n",
        "AWS_S3_BUCKET = config['aws']['AWS_S3_BUCKET']\n",
        "AWS_ACCESS_KEY_ID = config['aws']['AWS_ACCESS_KEY_ID']\n",
        "AWS_SECRET_ACCESS_KEY = config['aws']['AWS_SECRET_ACCESS_KEY']"
      ]
    },
    {
      "cell_type": "code",
      "execution_count": null,
      "metadata": {},
      "outputs": [],
      "source": [
        "applicationDf = pd.read_csv(\n",
        "    f\"s3://{AWS_S3_BUCKET}/dataset-3/application_data.csv\",\n",
        "    storage_options={\n",
        "        \"key\": AWS_ACCESS_KEY_ID,\n",
        "        \"secret\": AWS_SECRET_ACCESS_KEY,\n",
        "    },\n",
        ")\n",
        "\n",
        "previousDf = pd.read_csv(\n",
        "    f\"s3://{AWS_S3_BUCKET}/dataset-3/previous_application.csv\",\n",
        "    storage_options={\n",
        "        \"key\": AWS_ACCESS_KEY_ID,\n",
        "        \"secret\": AWS_SECRET_ACCESS_KEY,\n",
        "    },\n",
        ")\n",
        "\n",
        "applicationDf.head()"
      ]
    }
  ],
  "metadata": {
    "colab": {
      "authorship_tag": "ABX9TyObjtu8UMKG8mVuHCXsIffK",
      "include_colab_link": true,
      "provenance": []
    },
    "kernelspec": {
      "display_name": "Python 3",
      "name": "python3"
    },
    "language_info": {
      "codemirror_mode": {
        "name": "ipython",
        "version": 3
      },
      "file_extension": ".py",
      "mimetype": "text/x-python",
      "name": "python",
      "nbconvert_exporter": "python",
      "pygments_lexer": "ipython3",
      "version": "3.10.4"
    }
  },
  "nbformat": 4,
  "nbformat_minor": 0
}
