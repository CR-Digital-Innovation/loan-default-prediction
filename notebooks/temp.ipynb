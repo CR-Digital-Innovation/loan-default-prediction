{
 "cells": [
  {
   "cell_type": "code",
   "execution_count": 1,
   "metadata": {},
   "outputs": [],
   "source": [
    "import sys\n",
    "sys.path.append('../src/')"
   ]
  },
  {
   "cell_type": "code",
   "execution_count": 2,
   "metadata": {},
   "outputs": [],
   "source": [
    "import os\n",
    "from dotenv import load_dotenv\n",
    "\n",
    "\n",
    "# Load the variables from .env file\n",
    "load_dotenv()\n",
    "\n",
    "# Define the global variables to load AWS credentials and dataset file names\n",
    "AWS_S3_BUCKET = os.environ.get(\"AWS_S3_BUCKET\")\n",
    "AWS_ACCESS_KEY_ID = os.environ.get(\"AWS_ACCESS_KEY_ID\")\n",
    "AWS_SECRET_ACCESS_KEY = os.environ.get(\"AWS_SECRET_ACCESS_KEY\")\n",
    "AWS_S3_DATA_DIRECTORY = os.environ.get(\"AWS_S3_DATA_DIRECTORY\")\n",
    "AWS_S3_CLEAN_DATA_DIRECTORY = os.environ.get(\"AWS_S3_CLEAN_DATA_DIRECTORY\")\n",
    "AWS_S3_DATA_DIRECTORY_RAW = os.environ.get(\"AWS_S3_DATA_DIRECTORY_RAW\")\n",
    "APPLICATION_DATASET = os.environ.get(\"APPLICATION_DATASET\")\n",
    "AWS_S3_DATA_DIRECTORY_PROCESSED = os.environ.get(\"AWS_S3_DATA_DIRECTORY_PROCESSED\")\n",
    "AWS_S3_DATA_DIRECTORY_MODELS = os.environ.get(\"AWS_S3_DATA_DIRECTORY_MODELS\")\n",
    "DEMO_DATASET = os.environ.get(\"DEMO_DATASET\")"
   ]
  },
  {
   "cell_type": "code",
   "execution_count": 31,
   "metadata": {},
   "outputs": [],
   "source": [
    "from utils.s3_Functions import S3Utils\n",
    "# Create an instance of S3Utils class to access various methods\n",
    "s3_utils = S3Utils(AWS_ACCESS_KEY_ID, AWS_SECRET_ACCESS_KEY, AWS_S3_BUCKET, AWS_S3_DATA_DIRECTORY)"
   ]
  },
  {
   "cell_type": "code",
   "execution_count": 4,
   "metadata": {},
   "outputs": [
    {
     "name": "stdout",
     "output_type": "stream",
     "text": [
      "Loading 's3://loan-default-prediction/dataset-3/original/application_data.csv' file as dataframe.\n"
     ]
    }
   ],
   "source": [
    "applicationDf = s3_utils.load_dataframe('original', 'application_data.csv')"
   ]
  },
  {
   "cell_type": "code",
   "execution_count": 5,
   "metadata": {},
   "outputs": [
    {
     "name": "stdout",
     "output_type": "stream",
     "text": [
      "Loading 's3://loan-default-prediction/dataset-3/original/previous_application.csv' file as dataframe.\n"
     ]
    }
   ],
   "source": [
    "previousDf = s3_utils.load_dataframe('original', 'previous_application.csv')"
   ]
  },
  {
   "cell_type": "code",
   "execution_count": 6,
   "metadata": {},
   "outputs": [],
   "source": [
    "import pandas as pd\n",
    "loan_process_df = pd.merge(applicationDf, previousDf, how=\"inner\", on=\"SK_ID_CURR\")"
   ]
  },
  {
   "cell_type": "code",
   "execution_count": 7,
   "metadata": {},
   "outputs": [
    {
     "data": {
      "text/plain": [
       "(1413701, 158)"
      ]
     },
     "execution_count": 7,
     "metadata": {},
     "output_type": "execute_result"
    }
   ],
   "source": [
    "loan_process_df.shape"
   ]
  },
  {
   "cell_type": "code",
   "execution_count": 22,
   "metadata": {},
   "outputs": [],
   "source": [
    "from typing import Tuple\n",
    "from sklearn.model_selection import train_test_split\n",
    "\n",
    "def split_data(\n",
    "    df: pd.DataFrame, target_column: str, test_size: float = 0.2, random_state: int = 42\n",
    ") -> Tuple[pd.DataFrame, pd.DataFrame, pd.DataFrame, pd.DataFrame, pd.DataFrame]:\n",
    "    \"\"\"Function to split the data into train and test samples\"\"\"\n",
    "\n",
    "    # Split the features and target variables\n",
    "    X, y = df.drop(target_column, axis=1), df[target_column]\n",
    "\n",
    "    # Split the data into training and test samples\n",
    "    X_train, X_test, y_train, y_test = train_test_split(\n",
    "        X, y, test_size=test_size, random_state=random_state,\n",
    "    )\n",
    "\n",
    "    return X, X_train, X_test, y_train, y_test"
   ]
  },
  {
   "cell_type": "code",
   "execution_count": 29,
   "metadata": {},
   "outputs": [
    {
     "ename": "ValueError",
     "evalue": "Input contains NaN",
     "output_type": "error",
     "traceback": [
      "\u001b[1;31m---------------------------------------------------------------------------\u001b[0m",
      "\u001b[1;31mValueError\u001b[0m                                Traceback (most recent call last)",
      "Cell \u001b[1;32mIn[29], line 1\u001b[0m\n\u001b[1;32m----> 1\u001b[0m Train_set, Test_set \u001b[39m=\u001b[39m train_test_split(loan_process_df, test_size\u001b[39m=\u001b[39;49m\u001b[39m0.075\u001b[39;49m, random_state\u001b[39m=\u001b[39;49m\u001b[39m42\u001b[39;49m, stratify\u001b[39m=\u001b[39;49mloan_process_df\u001b[39m.\u001b[39;49mselect_dtypes(include\u001b[39m=\u001b[39;49m\u001b[39m'\u001b[39;49m\u001b[39mobject\u001b[39;49m\u001b[39m'\u001b[39;49m))\n",
      "File \u001b[1;32mc:\\Users\\cr-admin\\repos\\loan-default-prediction\\.venv\\Lib\\site-packages\\sklearn\\model_selection\\_split.py:2583\u001b[0m, in \u001b[0;36mtrain_test_split\u001b[1;34m(test_size, train_size, random_state, shuffle, stratify, *arrays)\u001b[0m\n\u001b[0;32m   2579\u001b[0m         CVClass \u001b[39m=\u001b[39m ShuffleSplit\n\u001b[0;32m   2581\u001b[0m     cv \u001b[39m=\u001b[39m CVClass(test_size\u001b[39m=\u001b[39mn_test, train_size\u001b[39m=\u001b[39mn_train, random_state\u001b[39m=\u001b[39mrandom_state)\n\u001b[1;32m-> 2583\u001b[0m     train, test \u001b[39m=\u001b[39m \u001b[39mnext\u001b[39m(cv\u001b[39m.\u001b[39;49msplit(X\u001b[39m=\u001b[39;49marrays[\u001b[39m0\u001b[39;49m], y\u001b[39m=\u001b[39;49mstratify))\n\u001b[0;32m   2585\u001b[0m \u001b[39mreturn\u001b[39;00m \u001b[39mlist\u001b[39m(\n\u001b[0;32m   2586\u001b[0m     chain\u001b[39m.\u001b[39mfrom_iterable(\n\u001b[0;32m   2587\u001b[0m         (_safe_indexing(a, train), _safe_indexing(a, test)) \u001b[39mfor\u001b[39;00m a \u001b[39min\u001b[39;00m arrays\n\u001b[0;32m   2588\u001b[0m     )\n\u001b[0;32m   2589\u001b[0m )\n",
      "File \u001b[1;32mc:\\Users\\cr-admin\\repos\\loan-default-prediction\\.venv\\Lib\\site-packages\\sklearn\\model_selection\\_split.py:2160\u001b[0m, in \u001b[0;36mStratifiedShuffleSplit.split\u001b[1;34m(self, X, y, groups)\u001b[0m\n\u001b[0;32m   2126\u001b[0m \u001b[39mdef\u001b[39;00m \u001b[39msplit\u001b[39m(\u001b[39mself\u001b[39m, X, y, groups\u001b[39m=\u001b[39m\u001b[39mNone\u001b[39;00m):\n\u001b[0;32m   2127\u001b[0m \u001b[39m    \u001b[39m\u001b[39m\"\"\"Generate indices to split data into training and test set.\u001b[39;00m\n\u001b[0;32m   2128\u001b[0m \n\u001b[0;32m   2129\u001b[0m \u001b[39m    Parameters\u001b[39;00m\n\u001b[1;32m   (...)\u001b[0m\n\u001b[0;32m   2158\u001b[0m \u001b[39m    to an integer.\u001b[39;00m\n\u001b[0;32m   2159\u001b[0m \u001b[39m    \"\"\"\u001b[39;00m\n\u001b[1;32m-> 2160\u001b[0m     y \u001b[39m=\u001b[39m check_array(y, input_name\u001b[39m=\u001b[39;49m\u001b[39m\"\u001b[39;49m\u001b[39my\u001b[39;49m\u001b[39m\"\u001b[39;49m, ensure_2d\u001b[39m=\u001b[39;49m\u001b[39mFalse\u001b[39;49;00m, dtype\u001b[39m=\u001b[39;49m\u001b[39mNone\u001b[39;49;00m)\n\u001b[0;32m   2161\u001b[0m     \u001b[39mreturn\u001b[39;00m \u001b[39msuper\u001b[39m()\u001b[39m.\u001b[39msplit(X, y, groups)\n",
      "File \u001b[1;32mc:\\Users\\cr-admin\\repos\\loan-default-prediction\\.venv\\Lib\\site-packages\\sklearn\\utils\\validation.py:921\u001b[0m, in \u001b[0;36mcheck_array\u001b[1;34m(array, accept_sparse, accept_large_sparse, dtype, order, copy, force_all_finite, ensure_2d, allow_nd, ensure_min_samples, ensure_min_features, estimator, input_name)\u001b[0m\n\u001b[0;32m    915\u001b[0m         \u001b[39mraise\u001b[39;00m \u001b[39mValueError\u001b[39;00m(\n\u001b[0;32m    916\u001b[0m             \u001b[39m\"\u001b[39m\u001b[39mFound array with dim \u001b[39m\u001b[39m%d\u001b[39;00m\u001b[39m. \u001b[39m\u001b[39m%s\u001b[39;00m\u001b[39m expected <= 2.\u001b[39m\u001b[39m\"\u001b[39m\n\u001b[0;32m    917\u001b[0m             \u001b[39m%\u001b[39m (array\u001b[39m.\u001b[39mndim, estimator_name)\n\u001b[0;32m    918\u001b[0m         )\n\u001b[0;32m    920\u001b[0m     \u001b[39mif\u001b[39;00m force_all_finite:\n\u001b[1;32m--> 921\u001b[0m         _assert_all_finite(\n\u001b[0;32m    922\u001b[0m             array,\n\u001b[0;32m    923\u001b[0m             input_name\u001b[39m=\u001b[39;49minput_name,\n\u001b[0;32m    924\u001b[0m             estimator_name\u001b[39m=\u001b[39;49mestimator_name,\n\u001b[0;32m    925\u001b[0m             allow_nan\u001b[39m=\u001b[39;49mforce_all_finite \u001b[39m==\u001b[39;49m \u001b[39m\"\u001b[39;49m\u001b[39mallow-nan\u001b[39;49m\u001b[39m\"\u001b[39;49m,\n\u001b[0;32m    926\u001b[0m         )\n\u001b[0;32m    928\u001b[0m \u001b[39mif\u001b[39;00m ensure_min_samples \u001b[39m>\u001b[39m \u001b[39m0\u001b[39m:\n\u001b[0;32m    929\u001b[0m     n_samples \u001b[39m=\u001b[39m _num_samples(array)\n",
      "File \u001b[1;32mc:\\Users\\cr-admin\\repos\\loan-default-prediction\\.venv\\Lib\\site-packages\\sklearn\\utils\\validation.py:111\u001b[0m, in \u001b[0;36m_assert_all_finite\u001b[1;34m(X, allow_nan, msg_dtype, estimator_name, input_name)\u001b[0m\n\u001b[0;32m    109\u001b[0m \u001b[39mif\u001b[39;00m X\u001b[39m.\u001b[39mdtype \u001b[39m==\u001b[39m np\u001b[39m.\u001b[39mdtype(\u001b[39m\"\u001b[39m\u001b[39mobject\u001b[39m\u001b[39m\"\u001b[39m) \u001b[39mand\u001b[39;00m \u001b[39mnot\u001b[39;00m allow_nan:\n\u001b[0;32m    110\u001b[0m     \u001b[39mif\u001b[39;00m _object_dtype_isnan(X)\u001b[39m.\u001b[39many():\n\u001b[1;32m--> 111\u001b[0m         \u001b[39mraise\u001b[39;00m \u001b[39mValueError\u001b[39;00m(\u001b[39m\"\u001b[39m\u001b[39mInput contains NaN\u001b[39m\u001b[39m\"\u001b[39m)\n\u001b[0;32m    113\u001b[0m \u001b[39m# We need only consider float arrays, hence can early return for all else.\u001b[39;00m\n\u001b[0;32m    114\u001b[0m \u001b[39mif\u001b[39;00m X\u001b[39m.\u001b[39mdtype\u001b[39m.\u001b[39mkind \u001b[39mnot\u001b[39;00m \u001b[39min\u001b[39;00m \u001b[39m\"\u001b[39m\u001b[39mfc\u001b[39m\u001b[39m\"\u001b[39m:\n",
      "\u001b[1;31mValueError\u001b[0m: Input contains NaN"
     ]
    }
   ],
   "source": [
    "Train_set, Test_set = train_test_split(loan_process_df, test_size=0.075)"
   ]
  },
  {
   "cell_type": "code",
   "execution_count": 24,
   "metadata": {},
   "outputs": [
    {
     "name": "stdout",
     "output_type": "stream",
     "text": [
      "Train_set: (1307673, 158)\n",
      "Test_set: (106028, 158)\n"
     ]
    }
   ],
   "source": [
    "print(\"Train_set:\", Train_set.shape)\n",
    "print(\"Test_set:\", Test_set.shape)"
   ]
  },
  {
   "cell_type": "code",
   "execution_count": 25,
   "metadata": {},
   "outputs": [
    {
     "data": {
      "text/plain": [
       "NAME_CONTRACT_TYPE_x  CODE_GENDER  FLAG_OWN_CAR  FLAG_OWN_REALTY  NAME_TYPE_SUITE_x  NAME_INCOME_TYPE      NAME_EDUCATION_TYPE            NAME_FAMILY_STATUS  NAME_HOUSING_TYPE    OCCUPATION_TYPE  WEEKDAY_APPR_PROCESS_START_x  ORGANIZATION_TYPE       FONDKAPREMONT_MODE     HOUSETYPE_MODE  WALLSMATERIAL_MODE  EMERGENCYSTATE_MODE  NAME_CONTRACT_TYPE_y  WEEKDAY_APPR_PROCESS_START_y  FLAG_LAST_APPL_PER_CONTRACT  NAME_CASH_LOAN_PURPOSE  NAME_CONTRACT_STATUS  NAME_PAYMENT_TYPE      CODE_REJECT_REASON  NAME_TYPE_SUITE_y  NAME_CLIENT_TYPE  NAME_GOODS_CATEGORY   NAME_PORTFOLIO  NAME_PRODUCT_TYPE  CHANNEL_TYPE             NAME_SELLER_INDUSTRY  NAME_YIELD_GROUP  PRODUCT_COMBINATION        \n",
       "Cash loans            F            N             Y                Group of people    Commercial associate  Secondary / secondary special  Married             House / apartment    Sales staff      WEDNESDAY                     Trade: type 3           not specified          block of flats  Stone, brick        No                   Consumer loans        WEDNESDAY                     Y                            XAP                     Refused               Cash through the bank  LIMIT               Unaccompanied      Repeater          Audio/Video           POS             XNA                Country-wide             Consumer electronics  middle            POS household with interest    12\n",
       "                                                                  Unaccompanied      State servant         Secondary / secondary special  Widow               House / apartment    Medicine staff   MONDAY                        Medicine                reg oper account       block of flats  Panel               No                   Cash loans            THURSDAY                      Y                            XNA                     Refused               Cash through the bank  SCO                 Children           Repeater          XNA                   Cash            walk-in            Credit and cash offices  XNA                   high              Cash Street: high              11\n",
       "                      M            N             Y                Unaccompanied      Commercial associate  Secondary / secondary special  Married             House / apartment    Sales staff      WEDNESDAY                     Trade: type 2           reg oper account       block of flats  Stone, brick        No                   Consumer loans        FRIDAY                        Y                            XAP                     Refused               Cash through the bank  LIMIT               Unaccompanied      Repeater          Consumer Electronics  POS             XNA                Country-wide             Consumer electronics  middle            POS household with interest    11\n",
       "                                   Y             N                Unaccompanied      Commercial associate  Higher education               Separated           House / apartment    Managers         SATURDAY                      Business Entity Type 3  reg oper account       block of flats  Panel               No                   Cash loans            MONDAY                        Y                            XNA                     Refused               Cash through the bank  HC                  Unaccompanied      Repeater          XNA                   Cash            x-sell             Credit and cash offices  XNA                   high              Cash X-Sell: high              11\n",
       "                      F            N             Y                Unaccompanied      Working               Secondary / secondary special  Widow               Municipal apartment  Cleaning staff   SATURDAY                      Government              reg oper account       block of flats  Panel               No                   Cash loans            THURSDAY                      Y                            XNA                     Refused               Cash through the bank  HC                  Family             Repeater          XNA                   Cash            x-sell             Country-wide             Consumer electronics  low_action        Cash X-Sell: low                9\n",
       "                                                                                                                                                                                                                                                                                                                                                                                                                                                                                                                                                                                                                                                                                                                  ..\n",
       "                                                                                                                                          Married             House / apartment    Cleaning staff   THURSDAY                      School                  reg oper account       block of flats  Panel               No                   Revolving loans       SUNDAY                        Y                            XAP                     Approved              XNA                    XAP                 Unaccompanied      Repeater          XNA                   Cards           walk-in            Country-wide             Consumer electronics  XNA               Card Street                     1\n",
       "                                                                                                                                                                                                                                                                                                                                          Consumer loans        SUNDAY                        Y                            XAP                     Approved              Cash through the bank  XAP                 Unaccompanied      Repeater          Audio/Video           POS             XNA                Country-wide             Consumer electronics  middle            POS household with interest     1\n",
       "                                                                                                                                                                                                                                                                                                                                                                SATURDAY                      Y                            XAP                     Approved              Cash through the bank  XAP                 Family             New               Consumer Electronics  POS             XNA                Country-wide             Consumer electronics  middle            POS household with interest     1\n",
       "                                                                                                                                                                                                                                                                                                 Block               No                   Revolving loans       SUNDAY                        Y                            XAP                     Approved              XNA                    XAP                 Family             Refreshed         XNA                   Cards           walk-in            Regional / Local         Construction          XNA               Card Street                     1\n",
       "Revolving loans       XNA          N             Y                Unaccompanied      Working               Higher education               Married             House / apartment    Core staff       THURSDAY                      Kindergarten            reg oper spec account  block of flats  Panel               No                   Revolving loans       TUESDAY                       N                            XAP                     Refused               XNA                    HC                  Unaccompanied      Repeater          XNA                   Cards           x-sell             AP+ (Cash loan)          XNA                   XNA               Card X-Sell                     1\n",
       "Name: count, Length: 133324, dtype: int64"
      ]
     },
     "execution_count": 25,
     "metadata": {},
     "output_type": "execute_result"
    }
   ],
   "source": [
    "Train_set[Train_set.select_dtypes(include='object').columns].value_counts()"
   ]
  },
  {
   "cell_type": "code",
   "execution_count": 26,
   "metadata": {},
   "outputs": [
    {
     "data": {
      "text/plain": [
       "NAME_CONTRACT_TYPE_x  CODE_GENDER  FLAG_OWN_CAR  FLAG_OWN_REALTY  NAME_TYPE_SUITE_x  NAME_INCOME_TYPE      NAME_EDUCATION_TYPE            NAME_FAMILY_STATUS    NAME_HOUSING_TYPE  OCCUPATION_TYPE        WEEKDAY_APPR_PROCESS_START_x  ORGANIZATION_TYPE       FONDKAPREMONT_MODE     HOUSETYPE_MODE  WALLSMATERIAL_MODE  EMERGENCYSTATE_MODE  NAME_CONTRACT_TYPE_y  WEEKDAY_APPR_PROCESS_START_y  FLAG_LAST_APPL_PER_CONTRACT  NAME_CASH_LOAN_PURPOSE  NAME_CONTRACT_STATUS  NAME_PAYMENT_TYPE      CODE_REJECT_REASON  NAME_TYPE_SUITE_y  NAME_CLIENT_TYPE  NAME_GOODS_CATEGORY  NAME_PORTFOLIO  NAME_PRODUCT_TYPE  CHANNEL_TYPE             NAME_SELLER_INDUSTRY  NAME_YIELD_GROUP  PRODUCT_COMBINATION        \n",
       "Cash loans            F            N             N                Unaccompanied      Working               Secondary / secondary special  Single / not married  House / apartment  Sales staff            MONDAY                        Business Entity Type 3  reg oper account       block of flats  Stone, brick        No                   Cash loans            WEDNESDAY                     Y                            XNA                     Refused               Cash through the bank  LIMIT               Children           Repeater          XNA                  Cash            x-sell             Credit and cash offices  XNA                   middle            Cash X-Sell: middle            3\n",
       "Revolving loans       F            Y             Y                Unaccompanied      Working               Secondary / secondary special  Married               House / apartment  Core staff             MONDAY                        Other                   reg oper account       block of flats  Block               No                   Cash loans            SATURDAY                      Y                            XNA                     Refused               Cash through the bank  HC                  Spouse, partner    Refreshed         XNA                  XNA             XNA                Credit and cash offices  XNA                   XNA               Cash                           2\n",
       "Cash loans            M            Y             Y                Unaccompanied      Working               Secondary / secondary special  Married               House / apartment  Drivers                MONDAY                        Other                   reg oper account       block of flats  Panel               No                   Cash loans            TUESDAY                       Y                            XNA                     Refused               Cash through the bank  HC                  Unaccompanied      Repeater          XNA                  Cash            x-sell             Credit and cash offices  XNA                   low_normal        Cash X-Sell: low               2\n",
       "                                                                                                                                                                                   Laborers               SATURDAY                      Other                   reg oper account       block of flats  Wooden              Yes                  Consumer loans        THURSDAY                      Y                            XAP                     Refused               Cash through the bank  LIMIT               Family             Refreshed         Audio/Video          POS             XNA                Country-wide             Consumer electronics  middle            POS household with interest    2\n",
       "                                   N             N                Unaccompanied      Commercial associate  Higher education               Married               House / apartment  High skill tech staff  MONDAY                        Mobile                  reg oper account       block of flats  Panel               No                   Cash loans            TUESDAY                       Y                            XNA                     Refused               Cash through the bank  HC                  Unaccompanied      Refreshed         XNA                  Cash            x-sell             Credit and cash offices  XNA                   high              Cash X-Sell: high              2\n",
       "                                                                                                                                                                                                                                                                                                                                                                                                                                                                                                                                                                                                                                                                                                                      ..\n",
       "                      F            N             Y                Unaccompanied      Working               Secondary / secondary special  Married               House / apartment  Accountants            TUESDAY                       Self-employed           reg oper account       block of flats  Stone, brick        No                   Consumer loans        TUESDAY                       Y                            XAP                     Approved              XNA                    XAP                 Children           New               Mobile               POS             XNA                Regional / Local         Connectivity          high              POS mobile with interest       1\n",
       "                                                                                                                                                                                                          WEDNESDAY                     Business Entity Type 3  reg oper spec account  block of flats  Stone, brick        No                   Consumer loans        THURSDAY                      Y                            XAP                     Approved              Cash through the bank  XAP                 Unaccompanied      New               Audio/Video          POS             XNA                Regional / Local         Consumer electronics  middle            POS household with interest    1\n",
       "                                                                                                                                                                                                                                        Other                   reg oper account       block of flats  Panel               No                   Consumer loans        FRIDAY                        Y                            XAP                     Approved              Cash through the bank  XAP                 Unaccompanied      Repeater          Tourism              POS             XNA                Stone                    Tourism               low_normal        POS other with interest        1\n",
       "                                                                                                                                                                                                                                                                                                                                                                      SUNDAY                        Y                            XAP                     Approved              Cash through the bank  XAP                 Unaccompanied      Refreshed         Tourism              POS             XNA                Stone                    Industry              low_normal        POS other with interest        1\n",
       "Revolving loans       XNA          N             Y                Unaccompanied      Working               Higher education               Married               House / apartment  Core staff             THURSDAY                      Kindergarten            reg oper spec account  block of flats  Panel               No                   Consumer loans        SUNDAY                        Y                            XAP                     Approved              Cash through the bank  XAP                 Unaccompanied      Refreshed         Mobile               POS             XNA                Stone                    Connectivity          middle            POS mobile with interest       1\n",
       "Name: count, Length: 11425, dtype: int64"
      ]
     },
     "execution_count": 26,
     "metadata": {},
     "output_type": "execute_result"
    }
   ],
   "source": [
    "Test_set[Test_set.select_dtypes(include='object').columns].value_counts()"
   ]
  },
  {
   "cell_type": "code",
   "execution_count": 27,
   "metadata": {},
   "outputs": [
    {
     "name": "stdout",
     "output_type": "stream",
     "text": [
      "Saving dataframe as 'merged_application_data.csv' at 's3://loan-default-prediction/dataset-3/raw/merged_application_data.csv'\n",
      "Error saving dataframe as csv to S3: 'S3FileSystem' object is not callable\n"
     ]
    }
   ],
   "source": [
    "s3_utils.save_dataframe(\n",
    "          AWS_S3_DATA_DIRECTORY_RAW, 'merged_application_data.csv', Train_set\n",
    "       )"
   ]
  },
  {
   "cell_type": "code",
   "execution_count": 28,
   "metadata": {},
   "outputs": [
    {
     "name": "stdout",
     "output_type": "stream",
     "text": [
      "Saving dataframe as 'merged_demo_data.csv' at 's3://loan-default-prediction/dataset-3/raw/merged_demo_data.csv'\n",
      "Error saving dataframe as csv to S3: 'S3FileSystem' object is not callable\n"
     ]
    }
   ],
   "source": [
    "s3_utils.save_dataframe(\n",
    "          AWS_S3_DATA_DIRECTORY_RAW, 'merged_demo_data.csv', Test_set\n",
    "       )"
   ]
  },
  {
   "cell_type": "code",
   "execution_count": null,
   "metadata": {},
   "outputs": [],
   "source": []
  }
 ],
 "metadata": {
  "kernelspec": {
   "display_name": ".venv",
   "language": "python",
   "name": "python3"
  },
  "language_info": {
   "codemirror_mode": {
    "name": "ipython",
    "version": 3
   },
   "file_extension": ".py",
   "mimetype": "text/x-python",
   "name": "python",
   "nbconvert_exporter": "python",
   "pygments_lexer": "ipython3",
   "version": "3.11.3"
  },
  "orig_nbformat": 4
 },
 "nbformat": 4,
 "nbformat_minor": 2
}
