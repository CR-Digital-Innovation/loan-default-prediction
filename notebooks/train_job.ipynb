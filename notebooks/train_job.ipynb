{
 "cells": [
  {
   "cell_type": "code",
   "execution_count": 1,
   "metadata": {},
   "outputs": [
    {
     "name": "stdout",
     "output_type": "stream",
     "text": [
      "DataFrame loaded from processed/clean_data_010623.csv:\n",
      "    TARGET  NAME_CONTRACT_TYPE_x  CODE_GENDER  FLAG_OWN_CAR  FLAG_OWN_REALTY  \\\n",
      "0       1                     0            1             0                1   \n",
      "1       0                     0            0             0                0   \n",
      "2       0                     0            0             0                0   \n",
      "3       0                     0            0             0                0   \n",
      "4       0                     1            1             1                1   \n",
      "\n",
      "   CNT_CHILDREN  AMT_INCOME_TOTAL  AMT_CREDIT_x  AMT_ANNUITY_x  \\\n",
      "0             0          202500.0      406597.5        24700.5   \n",
      "1             0          270000.0     1293502.5        35698.5   \n",
      "2             0          270000.0     1293502.5        35698.5   \n",
      "3             0          270000.0     1293502.5        35698.5   \n",
      "4             0           67500.0      135000.0         6750.0   \n",
      "\n",
      "   AMT_GOODS_PRICE_x  ...  NAME_GOODS_CATEGORY  NAME_PORTFOLIO  \\\n",
      "0           351000.0  ...                   24               3   \n",
      "1          1129500.0  ...                   26               2   \n",
      "2          1129500.0  ...                   11               3   \n",
      "3          1129500.0  ...                    7               3   \n",
      "4           135000.0  ...                   18               3   \n",
      "\n",
      "   NAME_PRODUCT_TYPE  CHANNEL_TYPE  SELLERPLACE_AREA  NAME_SELLER_INDUSTRY  \\\n",
      "0                  0             7               500                     0   \n",
      "1                  2             5                 0                    10   \n",
      "2                  0             7              1400                     5   \n",
      "3                  0             4               200                     4   \n",
      "4                  0             6                30                     2   \n",
      "\n",
      "   CNT_PAYMENT  NAME_YIELD_GROUP  PRODUCT_COMBINATION  YEARS_DECISION  \n",
      "0         24.0                 3                   15               1  \n",
      "1         12.0                 3                    7               2  \n",
      "2          6.0                 4                   11               2  \n",
      "3         12.0                 4                    9               6  \n",
      "4          4.0                 4                   14               2  \n",
      "\n",
      "[5 rows x 65 columns]\n"
     ]
    }
   ],
   "source": [
    "import sys\n",
    "sys.path.append('../src/')\n",
    "\n",
    "from dataFunctions import load_clean_data_s3\n",
    "\n",
    "clean_df = load_clean_data_s3(load=True, filename='clean_data_010623.csv')"
   ]
  },
  {
   "cell_type": "code",
   "execution_count": 2,
   "metadata": {},
   "outputs": [],
   "source": [
    "# Split the data into train and test samples\n",
    "X_train, X_test, y_train, y_test = data_split(clean_df, \"TARGET\")"
   ]
  },
  {
   "cell_type": "code",
   "execution_count": 5,
   "metadata": {},
   "outputs": [],
   "source": [
    "from modelFunctions import *"
   ]
  },
  {
   "cell_type": "code",
   "execution_count": 3,
   "metadata": {},
   "outputs": [
    {
     "name": "stdout",
     "output_type": "stream",
     "text": [
      "Best Model: Pipeline(steps=[('scaler', StandardScaler()),\n",
      "                ('classifier', RandomForestClassifier(n_jobs=-1))]),\n",
      "Best Score: 0.9508735941147343\n"
     ]
    }
   ],
   "source": [
    "# Train the model\n",
    "best_model, best_score = train_model(X_train, y_train)\n",
    "print(f\"Best Model: {best_model},\\nBest Score: {best_score}\")"
   ]
  },
  {
   "attachments": {},
   "cell_type": "markdown",
   "metadata": {},
   "source": [
    "Nearly 180 runs were performed in 1720 mins to find the best model"
   ]
  },
  {
   "cell_type": "code",
   "execution_count": 7,
   "metadata": {},
   "outputs": [
    {
     "name": "stdout",
     "output_type": "stream",
     "text": [
      "Classification report:\n",
      "               precision    recall  f1-score   support\n",
      "\n",
      "           0       0.96      1.00      0.98    258362\n",
      "           1       1.00      0.50      0.67     24379\n",
      "\n",
      "    accuracy                           0.96    282741\n",
      "   macro avg       0.98      0.75      0.82    282741\n",
      "weighted avg       0.96      0.96      0.95    282741\n",
      "\n"
     ]
    },
    {
     "data": {
      "image/png": "[encoded data removed]",
      "text/plain": [
       "<Figure size 640x480 with 2 Axes>"
      ]
     },
     "metadata": {},
     "output_type": "display_data"
    }
   ],
   "source": [
    "evaluate_model(best_model, X_test, y_test)"
   ]
  },
  {
   "cell_type": "code",
   "execution_count": 8,
   "metadata": {},
   "outputs": [],
   "source": [
    "save_model(best_model, \"best_rf_model.pkl\")"
   ]
  }
 ],
 "metadata": {
  "kernelspec": {
   "display_name": ".venv",
   "language": "python",
   "name": "python3"
  },
  "language_info": {
   "codemirror_mode": {
    "name": "ipython",
    "version": 3
   },
   "file_extension": ".py",
   "mimetype": "text/x-python",
   "name": "python",
   "nbconvert_exporter": "python",
   "pygments_lexer": "ipython3",
   "version": "3.11.3"
  },
  "orig_nbformat": 4
 },
 "nbformat": 4,
 "nbformat_minor": 2
}
